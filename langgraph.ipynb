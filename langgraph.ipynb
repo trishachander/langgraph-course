{
 "cells": [
  {
   "cell_type": "markdown",
   "metadata": {},
   "source": [
    "## Requirements"
   ]
  },
  {
   "cell_type": "code",
   "execution_count": 6,
   "metadata": {},
   "outputs": [
    {
     "name": "stdout",
     "output_type": "stream",
     "text": [
      "Collecting langgraph (from -r requirements.txt (line 1))\n",
      "  Obtaining dependency information for langgraph from https://files.pythonhosted.org/packages/c0/ed/6435328d51f0a56f42e53f8089ce31479c6e041248de9448652150f83162/langgraph-0.4.7-py3-none-any.whl.metadata\n",
      "  Using cached langgraph-0.4.7-py3-none-any.whl.metadata (6.8 kB)\n",
      "Collecting langgraph-prebuilt (from -r requirements.txt (line 2))\n",
      "  Obtaining dependency information for langgraph-prebuilt from https://files.pythonhosted.org/packages/14/46/c98fec1f8620cbffbabda346a2c68155eec3720c6c3393ab3b9529618810/langgraph_prebuilt-0.2.2-py3-none-any.whl.metadata\n",
      "  Using cached langgraph_prebuilt-0.2.2-py3-none-any.whl.metadata (4.5 kB)\n",
      "Collecting langgraph-sdk (from -r requirements.txt (line 3))\n",
      "  Obtaining dependency information for langgraph-sdk from https://files.pythonhosted.org/packages/8c/77/b0930ca5d54ef91e2bdb37e0f7dbeda1923e1e0b5b71ab3af35c103c2e39/langgraph_sdk-0.1.70-py3-none-any.whl.metadata\n",
      "  Using cached langgraph_sdk-0.1.70-py3-none-any.whl.metadata (1.5 kB)\n",
      "Collecting langgraph-checkpoint-sqlite (from -r requirements.txt (line 4))\n",
      "  Obtaining dependency information for langgraph-checkpoint-sqlite from https://files.pythonhosted.org/packages/c1/ff/63b16d83a513f7d7a5001bb01a40024986d330718a5315bf1962d7cc50c8/langgraph_checkpoint_sqlite-2.0.10-py3-none-any.whl.metadata\n",
      "  Using cached langgraph_checkpoint_sqlite-2.0.10-py3-none-any.whl.metadata (2.7 kB)\n",
      "Requirement already satisfied: langsmith in c:\\users\\trisha chander\\appdata\\local\\programs\\python\\python311\\lib\\site-packages (from -r requirements.txt (line 5)) (0.1.143)\n",
      "Requirement already satisfied: langchain-community in c:\\users\\trisha chander\\appdata\\local\\programs\\python\\python311\\lib\\site-packages (from -r requirements.txt (line 6)) (0.3.7)\n",
      "Requirement already satisfied: langchain-core in c:\\users\\trisha chander\\appdata\\local\\programs\\python\\python311\\lib\\site-packages (from -r requirements.txt (line 7)) (0.3.63)\n",
      "Requirement already satisfied: langchain-openai in c:\\users\\trisha chander\\appdata\\local\\programs\\python\\python311\\lib\\site-packages (from -r requirements.txt (line 8)) (0.2.8)\n",
      "Collecting notebook (from -r requirements.txt (line 9))\n",
      "  Obtaining dependency information for notebook from https://files.pythonhosted.org/packages/76/1b/16c809d799e3ddd7a97c8b43734f79624b74ddef9707e7d92275a13777bc/notebook-7.4.3-py3-none-any.whl.metadata\n",
      "  Using cached notebook-7.4.3-py3-none-any.whl.metadata (10 kB)\n",
      "Collecting tavily-python (from -r requirements.txt (line 10))\n",
      "  Obtaining dependency information for tavily-python from https://files.pythonhosted.org/packages/6f/82/0beda7ea25f1f586b1ae55b1b5399f999171ab12f87db1159fa6f00c2641/tavily_python-0.7.3-py3-none-any.whl.metadata\n",
      "  Using cached tavily_python-0.7.3-py3-none-any.whl.metadata (7.0 kB)\n",
      "Collecting wikipedia (from -r requirements.txt (line 11))\n",
      "  Using cached wikipedia-1.4.0-py3-none-any.whl\n",
      "Collecting trustcall (from -r requirements.txt (line 12))\n",
      "  Obtaining dependency information for trustcall from https://files.pythonhosted.org/packages/2c/3a/58de925a104ce554fc250b833fe76401c7822aa8d65f2002cb53195e6c64/trustcall-0.0.39-py3-none-any.whl.metadata\n",
      "  Using cached trustcall-0.0.39-py3-none-any.whl.metadata (29 kB)\n",
      "Collecting langgraph-cli[inmem] (from -r requirements.txt (line 13))\n",
      "  Obtaining dependency information for langgraph-cli[inmem] from https://files.pythonhosted.org/packages/e1/06/7151d7c8d6c2bccc0919ddb35a63caf3707b96c94561f47f14b08d73ef5e/langgraph_cli-0.2.10-py3-none-any.whl.metadata\n",
      "  Using cached langgraph_cli-0.2.10-py3-none-any.whl.metadata (4.1 kB)\n",
      "Collecting langgraph-checkpoint>=2.0.26 (from langgraph->-r requirements.txt (line 1))\n",
      "  Obtaining dependency information for langgraph-checkpoint>=2.0.26 from https://files.pythonhosted.org/packages/38/48/d7cec540a3011b3207470bb07294a399e3b94b2e8a602e38cb007ce5bc10/langgraph_checkpoint-2.0.26-py3-none-any.whl.metadata\n",
      "  Using cached langgraph_checkpoint-2.0.26-py3-none-any.whl.metadata (4.6 kB)\n",
      "Requirement already satisfied: pydantic>=2.7.4 in c:\\users\\trisha chander\\appdata\\local\\programs\\python\\python311\\lib\\site-packages (from langgraph->-r requirements.txt (line 1)) (2.9.2)\n",
      "Collecting xxhash>=3.5.0 (from langgraph->-r requirements.txt (line 1))\n",
      "  Obtaining dependency information for xxhash>=3.5.0 from https://files.pythonhosted.org/packages/52/1c/fa3b61c0cf03e1da4767213672efe186b1dfa4fc901a4a694fb184a513d1/xxhash-3.5.0-cp311-cp311-win_amd64.whl.metadata\n",
      "  Using cached xxhash-3.5.0-cp311-cp311-win_amd64.whl.metadata (13 kB)\n",
      "Requirement already satisfied: httpx>=0.25.2 in c:\\users\\trisha chander\\appdata\\local\\programs\\python\\python311\\lib\\site-packages (from langgraph-sdk->-r requirements.txt (line 3)) (0.27.2)\n",
      "Requirement already satisfied: orjson>=3.10.1 in c:\\users\\trisha chander\\appdata\\local\\programs\\python\\python311\\lib\\site-packages (from langgraph-sdk->-r requirements.txt (line 3)) (3.10.11)\n",
      "Collecting aiosqlite>=0.20 (from langgraph-checkpoint-sqlite->-r requirements.txt (line 4))\n",
      "  Obtaining dependency information for aiosqlite>=0.20 from https://files.pythonhosted.org/packages/f5/10/6c25ed6de94c49f88a91fa5018cb4c0f3625f31d5be9f771ebe5cc7cd506/aiosqlite-0.21.0-py3-none-any.whl.metadata\n",
      "  Using cached aiosqlite-0.21.0-py3-none-any.whl.metadata (4.3 kB)\n",
      "Collecting sqlite-vec>=0.1.6 (from langgraph-checkpoint-sqlite->-r requirements.txt (line 4))\n",
      "  Obtaining dependency information for sqlite-vec>=0.1.6 from https://files.pythonhosted.org/packages/6a/98/e8bc58b178266eae2fcf4c9c7a8303a8d41164d781b32d71097924a6bebe/sqlite_vec-0.1.6-py3-none-win_amd64.whl.metadata\n",
      "  Using cached sqlite_vec-0.1.6-py3-none-win_amd64.whl.metadata (198 bytes)\n",
      "Requirement already satisfied: requests<3,>=2 in c:\\users\\trisha chander\\appdata\\local\\programs\\python\\python311\\lib\\site-packages (from langsmith->-r requirements.txt (line 5)) (2.32.3)\n",
      "Requirement already satisfied: requests-toolbelt<2.0.0,>=1.0.0 in c:\\users\\trisha chander\\appdata\\local\\programs\\python\\python311\\lib\\site-packages (from langsmith->-r requirements.txt (line 5)) (1.0.0)\n",
      "Requirement already satisfied: PyYAML>=5.3 in c:\\users\\trisha chander\\appdata\\local\\programs\\python\\python311\\lib\\site-packages (from langchain-community->-r requirements.txt (line 6)) (6.0.2)\n",
      "Requirement already satisfied: SQLAlchemy<2.0.36,>=1.4 in c:\\users\\trisha chander\\appdata\\local\\programs\\python\\python311\\lib\\site-packages (from langchain-community->-r requirements.txt (line 6)) (2.0.35)\n",
      "Requirement already satisfied: aiohttp<4.0.0,>=3.8.3 in c:\\users\\trisha chander\\appdata\\local\\programs\\python\\python311\\lib\\site-packages (from langchain-community->-r requirements.txt (line 6)) (3.11.12)\n",
      "Requirement already satisfied: dataclasses-json<0.7,>=0.5.7 in c:\\users\\trisha chander\\appdata\\local\\programs\\python\\python311\\lib\\site-packages (from langchain-community->-r requirements.txt (line 6)) (0.6.7)\n",
      "Requirement already satisfied: httpx-sse<0.5.0,>=0.4.0 in c:\\users\\trisha chander\\appdata\\local\\programs\\python\\python311\\lib\\site-packages (from langchain-community->-r requirements.txt (line 6)) (0.4.0)\n",
      "Requirement already satisfied: langchain<0.4.0,>=0.3.7 in c:\\users\\trisha chander\\appdata\\local\\programs\\python\\python311\\lib\\site-packages (from langchain-community->-r requirements.txt (line 6)) (0.3.7)\n",
      "Requirement already satisfied: numpy<2,>=1 in c:\\users\\trisha chander\\appdata\\local\\programs\\python\\python311\\lib\\site-packages (from langchain-community->-r requirements.txt (line 6)) (1.26.4)\n",
      "Requirement already satisfied: pydantic-settings<3.0.0,>=2.4.0 in c:\\users\\trisha chander\\appdata\\local\\programs\\python\\python311\\lib\\site-packages (from langchain-community->-r requirements.txt (line 6)) (2.6.1)\n",
      "Requirement already satisfied: tenacity!=8.4.0,<10,>=8.1.0 in c:\\users\\trisha chander\\appdata\\local\\programs\\python\\python311\\lib\\site-packages (from langchain-community->-r requirements.txt (line 6)) (9.0.0)\n",
      "Requirement already satisfied: jsonpatch<2.0,>=1.33 in c:\\users\\trisha chander\\appdata\\local\\programs\\python\\python311\\lib\\site-packages (from langchain-core->-r requirements.txt (line 7)) (1.33)\n",
      "Requirement already satisfied: packaging<25,>=23.2 in c:\\users\\trisha chander\\appdata\\roaming\\python\\python311\\site-packages (from langchain-core->-r requirements.txt (line 7)) (24.2)\n",
      "Requirement already satisfied: typing-extensions>=4.7 in c:\\users\\trisha chander\\appdata\\roaming\\python\\python311\\site-packages (from langchain-core->-r requirements.txt (line 7)) (4.12.2)\n",
      "Requirement already satisfied: openai<2.0.0,>=1.54.0 in c:\\users\\trisha chander\\appdata\\local\\programs\\python\\python311\\lib\\site-packages (from langchain-openai->-r requirements.txt (line 8)) (1.63.0)\n",
      "Requirement already satisfied: tiktoken<1,>=0.7 in c:\\users\\trisha chander\\appdata\\local\\programs\\python\\python311\\lib\\site-packages (from langchain-openai->-r requirements.txt (line 8)) (0.8.0)\n",
      "Requirement already satisfied: jupyter-server<3,>=2.4.0 in c:\\users\\trisha chander\\appdata\\local\\programs\\python\\python311\\lib\\site-packages (from notebook->-r requirements.txt (line 9)) (2.14.2)\n",
      "Requirement already satisfied: jupyterlab-server<3,>=2.27.1 in c:\\users\\trisha chander\\appdata\\local\\programs\\python\\python311\\lib\\site-packages (from notebook->-r requirements.txt (line 9)) (2.27.3)\n",
      "Collecting jupyterlab<4.5,>=4.4.3 (from notebook->-r requirements.txt (line 9))\n",
      "  Obtaining dependency information for jupyterlab<4.5,>=4.4.3 from https://files.pythonhosted.org/packages/c6/4d/7dd5c2ffbb960930452a031dc8410746183c924580f2ab4e68ceb5b3043f/jupyterlab-4.4.3-py3-none-any.whl.metadata\n",
      "  Using cached jupyterlab-4.4.3-py3-none-any.whl.metadata (16 kB)\n",
      "Requirement already satisfied: notebook-shim<0.3,>=0.2 in c:\\users\\trisha chander\\appdata\\local\\programs\\python\\python311\\lib\\site-packages (from notebook->-r requirements.txt (line 9)) (0.2.4)\n",
      "Requirement already satisfied: tornado>=6.2.0 in c:\\users\\trisha chander\\appdata\\roaming\\python\\python311\\site-packages (from notebook->-r requirements.txt (line 9)) (6.4.1)\n",
      "Requirement already satisfied: beautifulsoup4 in c:\\users\\trisha chander\\appdata\\local\\programs\\python\\python311\\lib\\site-packages (from wikipedia->-r requirements.txt (line 11)) (4.12.3)\n",
      "Collecting dydantic<1.0.0,>=0.0.8 (from trustcall->-r requirements.txt (line 12))\n",
      "  Obtaining dependency information for dydantic<1.0.0,>=0.0.8 from https://files.pythonhosted.org/packages/7a/7c/a1b120141a300853d82291faf0ba1a95133fa390e4b7d773647b69c8c0f4/dydantic-0.0.8-py3-none-any.whl.metadata\n",
      "  Using cached dydantic-0.0.8-py3-none-any.whl.metadata (3.6 kB)\n",
      "Requirement already satisfied: click<9.0.0,>=8.1.7 in c:\\users\\trisha chander\\appdata\\local\\programs\\python\\python311\\lib\\site-packages (from langgraph-cli[inmem]->-r requirements.txt (line 13)) (8.1.7)\n",
      "Collecting langgraph-api>=0.1.20 (from langgraph-cli[inmem]->-r requirements.txt (line 13))\n",
      "  Obtaining dependency information for langgraph-api>=0.1.20 from https://files.pythonhosted.org/packages/b6/b7/0d05bbcd42a9070aa200e6001b466ef29d274c4715b654d4f6741a7ed8f5/langgraph_api-0.2.36-py3-none-any.whl.metadata\n",
      "  Using cached langgraph_api-0.2.36-py3-none-any.whl.metadata (3.9 kB)\n",
      "Collecting langgraph-runtime-inmem>=0.0.8 (from langgraph-cli[inmem]->-r requirements.txt (line 13))\n",
      "  Obtaining dependency information for langgraph-runtime-inmem>=0.0.8 from https://files.pythonhosted.org/packages/d4/1f/5676d5237b0682257957338f5f7ee1f063f6d33fa158f878ad926800e95d/langgraph_runtime_inmem-0.2.0-py3-none-any.whl.metadata\n",
      "  Using cached langgraph_runtime_inmem-0.2.0-py3-none-any.whl.metadata (565 bytes)\n",
      "Requirement already satisfied: python-dotenv>=0.8.0 in c:\\users\\trisha chander\\appdata\\local\\programs\\python\\python311\\lib\\site-packages (from langgraph-cli[inmem]->-r requirements.txt (line 13)) (1.0.1)\n",
      "Requirement already satisfied: aiohappyeyeballs>=2.3.0 in c:\\users\\trisha chander\\appdata\\local\\programs\\python\\python311\\lib\\site-packages (from aiohttp<4.0.0,>=3.8.3->langchain-community->-r requirements.txt (line 6)) (2.4.3)\n",
      "Requirement already satisfied: aiosignal>=1.1.2 in c:\\users\\trisha chander\\appdata\\local\\programs\\python\\python311\\lib\\site-packages (from aiohttp<4.0.0,>=3.8.3->langchain-community->-r requirements.txt (line 6)) (1.3.1)\n",
      "Requirement already satisfied: attrs>=17.3.0 in c:\\users\\trisha chander\\appdata\\local\\programs\\python\\python311\\lib\\site-packages (from aiohttp<4.0.0,>=3.8.3->langchain-community->-r requirements.txt (line 6)) (24.2.0)\n",
      "Requirement already satisfied: frozenlist>=1.1.1 in c:\\users\\trisha chander\\appdata\\local\\programs\\python\\python311\\lib\\site-packages (from aiohttp<4.0.0,>=3.8.3->langchain-community->-r requirements.txt (line 6)) (1.5.0)\n",
      "Requirement already satisfied: multidict<7.0,>=4.5 in c:\\users\\trisha chander\\appdata\\local\\programs\\python\\python311\\lib\\site-packages (from aiohttp<4.0.0,>=3.8.3->langchain-community->-r requirements.txt (line 6)) (6.1.0)\n",
      "Requirement already satisfied: propcache>=0.2.0 in c:\\users\\trisha chander\\appdata\\local\\programs\\python\\python311\\lib\\site-packages (from aiohttp<4.0.0,>=3.8.3->langchain-community->-r requirements.txt (line 6)) (0.2.0)\n",
      "Requirement already satisfied: yarl<2.0,>=1.17.0 in c:\\users\\trisha chander\\appdata\\local\\programs\\python\\python311\\lib\\site-packages (from aiohttp<4.0.0,>=3.8.3->langchain-community->-r requirements.txt (line 6)) (1.17.2)\n",
      "Requirement already satisfied: colorama in c:\\users\\trisha chander\\appdata\\roaming\\python\\python311\\site-packages (from click<9.0.0,>=8.1.7->langgraph-cli[inmem]->-r requirements.txt (line 13)) (0.4.6)\n",
      "Requirement already satisfied: marshmallow<4.0.0,>=3.18.0 in c:\\users\\trisha chander\\appdata\\local\\programs\\python\\python311\\lib\\site-packages (from dataclasses-json<0.7,>=0.5.7->langchain-community->-r requirements.txt (line 6)) (3.23.1)\n",
      "Requirement already satisfied: typing-inspect<1,>=0.4.0 in c:\\users\\trisha chander\\appdata\\local\\programs\\python\\python311\\lib\\site-packages (from dataclasses-json<0.7,>=0.5.7->langchain-community->-r requirements.txt (line 6)) (0.9.0)\n",
      "Requirement already satisfied: anyio in c:\\users\\trisha chander\\appdata\\local\\programs\\python\\python311\\lib\\site-packages (from httpx>=0.25.2->langgraph-sdk->-r requirements.txt (line 3)) (4.6.2.post1)\n",
      "Requirement already satisfied: certifi in c:\\users\\trisha chander\\appdata\\local\\programs\\python\\python311\\lib\\site-packages (from httpx>=0.25.2->langgraph-sdk->-r requirements.txt (line 3)) (2024.8.30)\n",
      "Requirement already satisfied: httpcore==1.* in c:\\users\\trisha chander\\appdata\\local\\programs\\python\\python311\\lib\\site-packages (from httpx>=0.25.2->langgraph-sdk->-r requirements.txt (line 3)) (1.0.7)\n",
      "Requirement already satisfied: idna in c:\\users\\trisha chander\\appdata\\local\\programs\\python\\python311\\lib\\site-packages (from httpx>=0.25.2->langgraph-sdk->-r requirements.txt (line 3)) (3.10)\n",
      "Requirement already satisfied: sniffio in c:\\users\\trisha chander\\appdata\\local\\programs\\python\\python311\\lib\\site-packages (from httpx>=0.25.2->langgraph-sdk->-r requirements.txt (line 3)) (1.3.1)\n",
      "Requirement already satisfied: h11<0.15,>=0.13 in c:\\users\\trisha chander\\appdata\\local\\programs\\python\\python311\\lib\\site-packages (from httpcore==1.*->httpx>=0.25.2->langgraph-sdk->-r requirements.txt (line 3)) (0.14.0)\n",
      "Requirement already satisfied: jsonpointer>=1.9 in c:\\users\\trisha chander\\appdata\\local\\programs\\python\\python311\\lib\\site-packages (from jsonpatch<2.0,>=1.33->langchain-core->-r requirements.txt (line 7)) (3.0.0)\n",
      "Requirement already satisfied: argon2-cffi>=21.1 in c:\\users\\trisha chander\\appdata\\local\\programs\\python\\python311\\lib\\site-packages (from jupyter-server<3,>=2.4.0->notebook->-r requirements.txt (line 9)) (23.1.0)\n",
      "Requirement already satisfied: jinja2>=3.0.3 in c:\\users\\trisha chander\\appdata\\local\\programs\\python\\python311\\lib\\site-packages (from jupyter-server<3,>=2.4.0->notebook->-r requirements.txt (line 9)) (3.1.4)\n",
      "Requirement already satisfied: jupyter-client>=7.4.4 in c:\\users\\trisha chander\\appdata\\roaming\\python\\python311\\site-packages (from jupyter-server<3,>=2.4.0->notebook->-r requirements.txt (line 9)) (8.6.3)\n",
      "Requirement already satisfied: jupyter-core!=5.0.*,>=4.12 in c:\\users\\trisha chander\\appdata\\roaming\\python\\python311\\site-packages (from jupyter-server<3,>=2.4.0->notebook->-r requirements.txt (line 9)) (5.7.2)\n",
      "Requirement already satisfied: jupyter-events>=0.9.0 in c:\\users\\trisha chander\\appdata\\local\\programs\\python\\python311\\lib\\site-packages (from jupyter-server<3,>=2.4.0->notebook->-r requirements.txt (line 9)) (0.10.0)\n",
      "Requirement already satisfied: jupyter-server-terminals>=0.4.4 in c:\\users\\trisha chander\\appdata\\local\\programs\\python\\python311\\lib\\site-packages (from jupyter-server<3,>=2.4.0->notebook->-r requirements.txt (line 9)) (0.5.3)\n",
      "Requirement already satisfied: nbconvert>=6.4.4 in c:\\users\\trisha chander\\appdata\\local\\programs\\python\\python311\\lib\\site-packages (from jupyter-server<3,>=2.4.0->notebook->-r requirements.txt (line 9)) (7.16.4)\n",
      "Requirement already satisfied: nbformat>=5.3.0 in c:\\users\\trisha chander\\appdata\\local\\programs\\python\\python311\\lib\\site-packages (from jupyter-server<3,>=2.4.0->notebook->-r requirements.txt (line 9)) (5.10.4)\n",
      "Requirement already satisfied: overrides>=5.0 in c:\\users\\trisha chander\\appdata\\local\\programs\\python\\python311\\lib\\site-packages (from jupyter-server<3,>=2.4.0->notebook->-r requirements.txt (line 9)) (7.7.0)\n",
      "Requirement already satisfied: prometheus-client>=0.9 in c:\\users\\trisha chander\\appdata\\local\\programs\\python\\python311\\lib\\site-packages (from jupyter-server<3,>=2.4.0->notebook->-r requirements.txt (line 9)) (0.21.1)\n",
      "Requirement already satisfied: pywinpty>=2.0.1 in c:\\users\\trisha chander\\appdata\\local\\programs\\python\\python311\\lib\\site-packages (from jupyter-server<3,>=2.4.0->notebook->-r requirements.txt (line 9)) (2.0.14)\n",
      "Requirement already satisfied: pyzmq>=24 in c:\\users\\trisha chander\\appdata\\roaming\\python\\python311\\site-packages (from jupyter-server<3,>=2.4.0->notebook->-r requirements.txt (line 9)) (26.2.0)\n",
      "Requirement already satisfied: send2trash>=1.8.2 in c:\\users\\trisha chander\\appdata\\local\\programs\\python\\python311\\lib\\site-packages (from jupyter-server<3,>=2.4.0->notebook->-r requirements.txt (line 9)) (1.8.3)\n",
      "Requirement already satisfied: terminado>=0.8.3 in c:\\users\\trisha chander\\appdata\\local\\programs\\python\\python311\\lib\\site-packages (from jupyter-server<3,>=2.4.0->notebook->-r requirements.txt (line 9)) (0.18.1)\n",
      "Requirement already satisfied: traitlets>=5.6.0 in c:\\users\\trisha chander\\appdata\\roaming\\python\\python311\\site-packages (from jupyter-server<3,>=2.4.0->notebook->-r requirements.txt (line 9)) (5.14.3)\n",
      "Requirement already satisfied: websocket-client>=1.7 in c:\\users\\trisha chander\\appdata\\local\\programs\\python\\python311\\lib\\site-packages (from jupyter-server<3,>=2.4.0->notebook->-r requirements.txt (line 9)) (1.8.0)\n",
      "Requirement already satisfied: async-lru>=1.0.0 in c:\\users\\trisha chander\\appdata\\local\\programs\\python\\python311\\lib\\site-packages (from jupyterlab<4.5,>=4.4.3->notebook->-r requirements.txt (line 9)) (2.0.4)\n",
      "Requirement already satisfied: ipykernel>=6.5.0 in c:\\users\\trisha chander\\appdata\\roaming\\python\\python311\\site-packages (from jupyterlab<4.5,>=4.4.3->notebook->-r requirements.txt (line 9)) (6.29.5)\n",
      "Requirement already satisfied: jupyter-lsp>=2.0.0 in c:\\users\\trisha chander\\appdata\\local\\programs\\python\\python311\\lib\\site-packages (from jupyterlab<4.5,>=4.4.3->notebook->-r requirements.txt (line 9)) (2.2.5)\n",
      "Requirement already satisfied: setuptools>=41.1.0 in c:\\users\\trisha chander\\appdata\\local\\programs\\python\\python311\\lib\\site-packages (from jupyterlab<4.5,>=4.4.3->notebook->-r requirements.txt (line 9)) (65.5.0)\n",
      "Requirement already satisfied: babel>=2.10 in c:\\users\\trisha chander\\appdata\\local\\programs\\python\\python311\\lib\\site-packages (from jupyterlab-server<3,>=2.27.1->notebook->-r requirements.txt (line 9)) (2.16.0)\n",
      "Requirement already satisfied: json5>=0.9.0 in c:\\users\\trisha chander\\appdata\\local\\programs\\python\\python311\\lib\\site-packages (from jupyterlab-server<3,>=2.27.1->notebook->-r requirements.txt (line 9)) (0.10.0)\n",
      "Requirement already satisfied: jsonschema>=4.18.0 in c:\\users\\trisha chander\\appdata\\local\\programs\\python\\python311\\lib\\site-packages (from jupyterlab-server<3,>=2.27.1->notebook->-r requirements.txt (line 9)) (4.23.0)\n",
      "Requirement already satisfied: langchain-text-splitters<0.4.0,>=0.3.0 in c:\\users\\trisha chander\\appdata\\local\\programs\\python\\python311\\lib\\site-packages (from langchain<0.4.0,>=0.3.7->langchain-community->-r requirements.txt (line 6)) (0.3.2)\n",
      "Collecting cloudpickle>=3.0.0 (from langgraph-api>=0.1.20->langgraph-cli[inmem]->-r requirements.txt (line 13))\n",
      "  Obtaining dependency information for cloudpickle>=3.0.0 from https://files.pythonhosted.org/packages/7e/e8/64c37fadfc2816a7701fa8a6ed8d87327c7d54eacfbfb6edab14a2f2be75/cloudpickle-3.1.1-py3-none-any.whl.metadata\n",
      "  Using cached cloudpickle-3.1.1-py3-none-any.whl.metadata (7.1 kB)\n",
      "Requirement already satisfied: cryptography<45.0,>=42.0.0 in c:\\users\\trisha chander\\appdata\\local\\programs\\python\\python311\\lib\\site-packages (from langgraph-api>=0.1.20->langgraph-cli[inmem]->-r requirements.txt (line 13)) (43.0.3)\n",
      "Collecting jsonschema-rs<0.30,>=0.20.0 (from langgraph-api>=0.1.20->langgraph-cli[inmem]->-r requirements.txt (line 13))\n",
      "  Obtaining dependency information for jsonschema-rs<0.30,>=0.20.0 from https://files.pythonhosted.org/packages/4b/3e/4767dce237d8ea2ff5f684699ef1b9dae5017dc41adaa6f3dc3a85b84608/jsonschema_rs-0.29.1-cp311-cp311-win_amd64.whl.metadata\n",
      "  Using cached jsonschema_rs-0.29.1-cp311-cp311-win_amd64.whl.metadata (14 kB)\n",
      "Requirement already satisfied: pyjwt>=2.9.0 in c:\\users\\trisha chander\\appdata\\local\\programs\\python\\python311\\lib\\site-packages (from langgraph-api>=0.1.20->langgraph-cli[inmem]->-r requirements.txt (line 13)) (2.10.1)\n",
      "Collecting sse-starlette<2.2.0,>=2.1.0 (from langgraph-api>=0.1.20->langgraph-cli[inmem]->-r requirements.txt (line 13))\n",
      "  Obtaining dependency information for sse-starlette<2.2.0,>=2.1.0 from https://files.pythonhosted.org/packages/52/aa/36b271bc4fa1d2796311ee7c7283a3a1c348bad426d37293609ca4300eef/sse_starlette-2.1.3-py3-none-any.whl.metadata\n",
      "  Using cached sse_starlette-2.1.3-py3-none-any.whl.metadata (5.8 kB)\n",
      "Requirement already satisfied: starlette>=0.38.6 in c:\\users\\trisha chander\\appdata\\local\\programs\\python\\python311\\lib\\site-packages (from langgraph-api>=0.1.20->langgraph-cli[inmem]->-r requirements.txt (line 13)) (0.45.3)\n",
      "Collecting structlog<26,>=24.1.0 (from langgraph-api>=0.1.20->langgraph-cli[inmem]->-r requirements.txt (line 13))\n",
      "  Obtaining dependency information for structlog<26,>=24.1.0 from https://files.pythonhosted.org/packages/f5/52/7a2c7a317b254af857464da3d60a0d3730c44f912f8c510c76a738a207fd/structlog-25.3.0-py3-none-any.whl.metadata\n",
      "  Using cached structlog-25.3.0-py3-none-any.whl.metadata (8.0 kB)\n",
      "Collecting truststore>=0.1 (from langgraph-api>=0.1.20->langgraph-cli[inmem]->-r requirements.txt (line 13))\n",
      "  Obtaining dependency information for truststore>=0.1 from https://files.pythonhosted.org/packages/bc/df/8ad635bdcfa8214c399e5614f7c2121dced47defb755a85ea1fa702ffb1c/truststore-0.10.1-py3-none-any.whl.metadata\n",
      "  Using cached truststore-0.10.1-py3-none-any.whl.metadata (4.4 kB)\n",
      "Requirement already satisfied: uvicorn>=0.26.0 in c:\\users\\trisha chander\\appdata\\local\\programs\\python\\python311\\lib\\site-packages (from langgraph-api>=0.1.20->langgraph-cli[inmem]->-r requirements.txt (line 13)) (0.34.0)\n",
      "Requirement already satisfied: watchfiles>=0.13 in c:\\users\\trisha chander\\appdata\\local\\programs\\python\\python311\\lib\\site-packages (from langgraph-api>=0.1.20->langgraph-cli[inmem]->-r requirements.txt (line 13)) (1.0.4)\n",
      "Collecting ormsgpack<2.0.0,>=1.8.0 (from langgraph-checkpoint>=2.0.26->langgraph->-r requirements.txt (line 1))\n",
      "  Obtaining dependency information for ormsgpack<2.0.0,>=1.8.0 from https://files.pythonhosted.org/packages/f7/87/073251cdb93d4c6241748568b3ad1b2a76281fb2002eed16a3a4043d61cf/ormsgpack-1.10.0-cp311-cp311-win_amd64.whl.metadata\n",
      "  Using cached ormsgpack-1.10.0-cp311-cp311-win_amd64.whl.metadata (44 kB)\n",
      "Collecting blockbuster<2.0.0,>=1.5.24 (from langgraph-runtime-inmem>=0.0.8->langgraph-cli[inmem]->-r requirements.txt (line 13))\n",
      "  Obtaining dependency information for blockbuster<2.0.0,>=1.5.24 from https://files.pythonhosted.org/packages/a7/c8/57a4c80e5abec29fa9406307a5277527f21210bfc6c2c61c3d8ded36c09b/blockbuster-1.5.24-py3-none-any.whl.metadata\n",
      "  Using cached blockbuster-1.5.24-py3-none-any.whl.metadata (10 kB)\n",
      "Requirement already satisfied: distro<2,>=1.7.0 in c:\\users\\trisha chander\\appdata\\local\\programs\\python\\python311\\lib\\site-packages (from openai<2.0.0,>=1.54.0->langchain-openai->-r requirements.txt (line 8)) (1.9.0)\n",
      "Requirement already satisfied: jiter<1,>=0.4.0 in c:\\users\\trisha chander\\appdata\\local\\programs\\python\\python311\\lib\\site-packages (from openai<2.0.0,>=1.54.0->langchain-openai->-r requirements.txt (line 8)) (0.7.1)\n",
      "Requirement already satisfied: tqdm>4 in c:\\users\\trisha chander\\appdata\\local\\programs\\python\\python311\\lib\\site-packages (from openai<2.0.0,>=1.54.0->langchain-openai->-r requirements.txt (line 8)) (4.67.0)\n",
      "Requirement already satisfied: annotated-types>=0.6.0 in c:\\users\\trisha chander\\appdata\\local\\programs\\python\\python311\\lib\\site-packages (from pydantic>=2.7.4->langgraph->-r requirements.txt (line 1)) (0.7.0)\n",
      "Requirement already satisfied: pydantic-core==2.23.4 in c:\\users\\trisha chander\\appdata\\local\\programs\\python\\python311\\lib\\site-packages (from pydantic>=2.7.4->langgraph->-r requirements.txt (line 1)) (2.23.4)\n",
      "Requirement already satisfied: charset-normalizer<4,>=2 in c:\\users\\trisha chander\\appdata\\local\\programs\\python\\python311\\lib\\site-packages (from requests<3,>=2->langsmith->-r requirements.txt (line 5)) (3.4.0)\n",
      "Requirement already satisfied: urllib3<3,>=1.21.1 in c:\\users\\trisha chander\\appdata\\local\\programs\\python\\python311\\lib\\site-packages (from requests<3,>=2->langsmith->-r requirements.txt (line 5)) (2.2.3)\n",
      "Requirement already satisfied: greenlet!=0.4.17 in c:\\users\\trisha chander\\appdata\\local\\programs\\python\\python311\\lib\\site-packages (from SQLAlchemy<2.0.36,>=1.4->langchain-community->-r requirements.txt (line 6)) (3.1.1)\n",
      "Requirement already satisfied: regex>=2022.1.18 in c:\\users\\trisha chander\\appdata\\local\\programs\\python\\python311\\lib\\site-packages (from tiktoken<1,>=0.7->langchain-openai->-r requirements.txt (line 8)) (2024.11.6)\n",
      "Requirement already satisfied: soupsieve>1.2 in c:\\users\\trisha chander\\appdata\\local\\programs\\python\\python311\\lib\\site-packages (from beautifulsoup4->wikipedia->-r requirements.txt (line 11)) (2.6)\n",
      "Requirement already satisfied: argon2-cffi-bindings in c:\\users\\trisha chander\\appdata\\local\\programs\\python\\python311\\lib\\site-packages (from argon2-cffi>=21.1->jupyter-server<3,>=2.4.0->notebook->-r requirements.txt (line 9)) (21.2.0)\n",
      "Collecting forbiddenfruit>=0.1.4 (from blockbuster<2.0.0,>=1.5.24->langgraph-runtime-inmem>=0.0.8->langgraph-cli[inmem]->-r requirements.txt (line 13))\n",
      "  Using cached forbiddenfruit-0.1.4-py3-none-any.whl\n",
      "Requirement already satisfied: cffi>=1.12 in c:\\users\\trisha chander\\appdata\\local\\programs\\python\\python311\\lib\\site-packages (from cryptography<45.0,>=42.0.0->langgraph-api>=0.1.20->langgraph-cli[inmem]->-r requirements.txt (line 13)) (1.17.1)\n",
      "Requirement already satisfied: comm>=0.1.1 in c:\\users\\trisha chander\\appdata\\roaming\\python\\python311\\site-packages (from ipykernel>=6.5.0->jupyterlab<4.5,>=4.4.3->notebook->-r requirements.txt (line 9)) (0.2.2)\n",
      "Requirement already satisfied: debugpy>=1.6.5 in c:\\users\\trisha chander\\appdata\\roaming\\python\\python311\\site-packages (from ipykernel>=6.5.0->jupyterlab<4.5,>=4.4.3->notebook->-r requirements.txt (line 9)) (1.8.8)\n",
      "Requirement already satisfied: ipython>=7.23.1 in c:\\users\\trisha chander\\appdata\\roaming\\python\\python311\\site-packages (from ipykernel>=6.5.0->jupyterlab<4.5,>=4.4.3->notebook->-r requirements.txt (line 9)) (8.29.0)\n",
      "Requirement already satisfied: matplotlib-inline>=0.1 in c:\\users\\trisha chander\\appdata\\roaming\\python\\python311\\site-packages (from ipykernel>=6.5.0->jupyterlab<4.5,>=4.4.3->notebook->-r requirements.txt (line 9)) (0.1.7)\n",
      "Requirement already satisfied: nest-asyncio in c:\\users\\trisha chander\\appdata\\roaming\\python\\python311\\site-packages (from ipykernel>=6.5.0->jupyterlab<4.5,>=4.4.3->notebook->-r requirements.txt (line 9)) (1.6.0)\n",
      "Requirement already satisfied: psutil in c:\\users\\trisha chander\\appdata\\roaming\\python\\python311\\site-packages (from ipykernel>=6.5.0->jupyterlab<4.5,>=4.4.3->notebook->-r requirements.txt (line 9)) (6.1.0)\n",
      "Requirement already satisfied: MarkupSafe>=2.0 in c:\\users\\trisha chander\\appdata\\local\\programs\\python\\python311\\lib\\site-packages (from jinja2>=3.0.3->jupyter-server<3,>=2.4.0->notebook->-r requirements.txt (line 9)) (3.0.2)\n",
      "Requirement already satisfied: jsonschema-specifications>=2023.03.6 in c:\\users\\trisha chander\\appdata\\local\\programs\\python\\python311\\lib\\site-packages (from jsonschema>=4.18.0->jupyterlab-server<3,>=2.27.1->notebook->-r requirements.txt (line 9)) (2024.10.1)\n",
      "Requirement already satisfied: referencing>=0.28.4 in c:\\users\\trisha chander\\appdata\\local\\programs\\python\\python311\\lib\\site-packages (from jsonschema>=4.18.0->jupyterlab-server<3,>=2.27.1->notebook->-r requirements.txt (line 9)) (0.35.1)\n",
      "Requirement already satisfied: rpds-py>=0.7.1 in c:\\users\\trisha chander\\appdata\\local\\programs\\python\\python311\\lib\\site-packages (from jsonschema>=4.18.0->jupyterlab-server<3,>=2.27.1->notebook->-r requirements.txt (line 9)) (0.22.3)\n",
      "Requirement already satisfied: python-dateutil>=2.8.2 in c:\\users\\trisha chander\\appdata\\local\\programs\\python\\python311\\lib\\site-packages (from jupyter-client>=7.4.4->jupyter-server<3,>=2.4.0->notebook->-r requirements.txt (line 9)) (2.9.0.post0)\n",
      "Requirement already satisfied: platformdirs>=2.5 in c:\\users\\trisha chander\\appdata\\roaming\\python\\python311\\site-packages (from jupyter-core!=5.0.*,>=4.12->jupyter-server<3,>=2.4.0->notebook->-r requirements.txt (line 9)) (4.3.6)\n",
      "Requirement already satisfied: pywin32>=300 in c:\\users\\trisha chander\\appdata\\roaming\\python\\python311\\site-packages (from jupyter-core!=5.0.*,>=4.12->jupyter-server<3,>=2.4.0->notebook->-r requirements.txt (line 9)) (308)\n",
      "Requirement already satisfied: python-json-logger>=2.0.4 in c:\\users\\trisha chander\\appdata\\local\\programs\\python\\python311\\lib\\site-packages (from jupyter-events>=0.9.0->jupyter-server<3,>=2.4.0->notebook->-r requirements.txt (line 9)) (3.2.1)\n",
      "Requirement already satisfied: rfc3339-validator in c:\\users\\trisha chander\\appdata\\local\\programs\\python\\python311\\lib\\site-packages (from jupyter-events>=0.9.0->jupyter-server<3,>=2.4.0->notebook->-r requirements.txt (line 9)) (0.1.4)\n",
      "Requirement already satisfied: rfc3986-validator>=0.1.1 in c:\\users\\trisha chander\\appdata\\local\\programs\\python\\python311\\lib\\site-packages (from jupyter-events>=0.9.0->jupyter-server<3,>=2.4.0->notebook->-r requirements.txt (line 9)) (0.1.1)\n",
      "Requirement already satisfied: bleach!=5.0.0 in c:\\users\\trisha chander\\appdata\\local\\programs\\python\\python311\\lib\\site-packages (from nbconvert>=6.4.4->jupyter-server<3,>=2.4.0->notebook->-r requirements.txt (line 9)) (6.2.0)\n",
      "Requirement already satisfied: defusedxml in c:\\users\\trisha chander\\appdata\\local\\programs\\python\\python311\\lib\\site-packages (from nbconvert>=6.4.4->jupyter-server<3,>=2.4.0->notebook->-r requirements.txt (line 9)) (0.7.1)\n",
      "Requirement already satisfied: jupyterlab-pygments in c:\\users\\trisha chander\\appdata\\local\\programs\\python\\python311\\lib\\site-packages (from nbconvert>=6.4.4->jupyter-server<3,>=2.4.0->notebook->-r requirements.txt (line 9)) (0.3.0)\n",
      "Requirement already satisfied: mistune<4,>=2.0.3 in c:\\users\\trisha chander\\appdata\\local\\programs\\python\\python311\\lib\\site-packages (from nbconvert>=6.4.4->jupyter-server<3,>=2.4.0->notebook->-r requirements.txt (line 9)) (3.0.2)\n",
      "Requirement already satisfied: nbclient>=0.5.0 in c:\\users\\trisha chander\\appdata\\local\\programs\\python\\python311\\lib\\site-packages (from nbconvert>=6.4.4->jupyter-server<3,>=2.4.0->notebook->-r requirements.txt (line 9)) (0.10.1)\n",
      "Requirement already satisfied: pandocfilters>=1.4.1 in c:\\users\\trisha chander\\appdata\\local\\programs\\python\\python311\\lib\\site-packages (from nbconvert>=6.4.4->jupyter-server<3,>=2.4.0->notebook->-r requirements.txt (line 9)) (1.5.1)\n",
      "Requirement already satisfied: pygments>=2.4.1 in c:\\users\\trisha chander\\appdata\\roaming\\python\\python311\\site-packages (from nbconvert>=6.4.4->jupyter-server<3,>=2.4.0->notebook->-r requirements.txt (line 9)) (2.18.0)\n",
      "Requirement already satisfied: tinycss2 in c:\\users\\trisha chander\\appdata\\local\\programs\\python\\python311\\lib\\site-packages (from nbconvert>=6.4.4->jupyter-server<3,>=2.4.0->notebook->-r requirements.txt (line 9)) (1.4.0)\n",
      "Requirement already satisfied: fastjsonschema>=2.15 in c:\\users\\trisha chander\\appdata\\local\\programs\\python\\python311\\lib\\site-packages (from nbformat>=5.3.0->jupyter-server<3,>=2.4.0->notebook->-r requirements.txt (line 9)) (2.21.1)\n",
      "Requirement already satisfied: mypy-extensions>=0.3.0 in c:\\users\\trisha chander\\appdata\\local\\programs\\python\\python311\\lib\\site-packages (from typing-inspect<1,>=0.4.0->dataclasses-json<0.7,>=0.5.7->langchain-community->-r requirements.txt (line 6)) (1.0.0)\n",
      "Requirement already satisfied: webencodings in c:\\users\\trisha chander\\appdata\\local\\programs\\python\\python311\\lib\\site-packages (from bleach!=5.0.0->nbconvert>=6.4.4->jupyter-server<3,>=2.4.0->notebook->-r requirements.txt (line 9)) (0.5.1)\n",
      "Requirement already satisfied: pycparser in c:\\users\\trisha chander\\appdata\\local\\programs\\python\\python311\\lib\\site-packages (from cffi>=1.12->cryptography<45.0,>=42.0.0->langgraph-api>=0.1.20->langgraph-cli[inmem]->-r requirements.txt (line 13)) (2.22)\n",
      "Requirement already satisfied: decorator in c:\\users\\trisha chander\\appdata\\roaming\\python\\python311\\site-packages (from ipython>=7.23.1->ipykernel>=6.5.0->jupyterlab<4.5,>=4.4.3->notebook->-r requirements.txt (line 9)) (5.1.1)\n",
      "Requirement already satisfied: jedi>=0.16 in c:\\users\\trisha chander\\appdata\\roaming\\python\\python311\\site-packages (from ipython>=7.23.1->ipykernel>=6.5.0->jupyterlab<4.5,>=4.4.3->notebook->-r requirements.txt (line 9)) (0.19.2)\n",
      "Requirement already satisfied: prompt-toolkit<3.1.0,>=3.0.41 in c:\\users\\trisha chander\\appdata\\roaming\\python\\python311\\site-packages (from ipython>=7.23.1->ipykernel>=6.5.0->jupyterlab<4.5,>=4.4.3->notebook->-r requirements.txt (line 9)) (3.0.48)\n",
      "Requirement already satisfied: stack-data in c:\\users\\trisha chander\\appdata\\roaming\\python\\python311\\site-packages (from ipython>=7.23.1->ipykernel>=6.5.0->jupyterlab<4.5,>=4.4.3->notebook->-r requirements.txt (line 9)) (0.6.3)\n",
      "Requirement already satisfied: fqdn in c:\\users\\trisha chander\\appdata\\local\\programs\\python\\python311\\lib\\site-packages (from jsonschema>=4.18.0->jupyterlab-server<3,>=2.27.1->notebook->-r requirements.txt (line 9)) (1.5.1)\n",
      "Requirement already satisfied: isoduration in c:\\users\\trisha chander\\appdata\\local\\programs\\python\\python311\\lib\\site-packages (from jsonschema>=4.18.0->jupyterlab-server<3,>=2.27.1->notebook->-r requirements.txt (line 9)) (20.11.0)\n",
      "Requirement already satisfied: uri-template in c:\\users\\trisha chander\\appdata\\local\\programs\\python\\python311\\lib\\site-packages (from jsonschema>=4.18.0->jupyterlab-server<3,>=2.27.1->notebook->-r requirements.txt (line 9)) (1.3.0)\n",
      "Requirement already satisfied: webcolors>=24.6.0 in c:\\users\\trisha chander\\appdata\\local\\programs\\python\\python311\\lib\\site-packages (from jsonschema>=4.18.0->jupyterlab-server<3,>=2.27.1->notebook->-r requirements.txt (line 9)) (24.11.1)\n",
      "Requirement already satisfied: six>=1.5 in c:\\users\\trisha chander\\appdata\\roaming\\python\\python311\\site-packages (from python-dateutil>=2.8.2->jupyter-client>=7.4.4->jupyter-server<3,>=2.4.0->notebook->-r requirements.txt (line 9)) (1.16.0)\n",
      "Requirement already satisfied: parso<0.9.0,>=0.8.4 in c:\\users\\trisha chander\\appdata\\roaming\\python\\python311\\site-packages (from jedi>=0.16->ipython>=7.23.1->ipykernel>=6.5.0->jupyterlab<4.5,>=4.4.3->notebook->-r requirements.txt (line 9)) (0.8.4)\n",
      "Requirement already satisfied: wcwidth in c:\\users\\trisha chander\\appdata\\roaming\\python\\python311\\site-packages (from prompt-toolkit<3.1.0,>=3.0.41->ipython>=7.23.1->ipykernel>=6.5.0->jupyterlab<4.5,>=4.4.3->notebook->-r requirements.txt (line 9)) (0.2.13)\n",
      "Requirement already satisfied: arrow>=0.15.0 in c:\\users\\trisha chander\\appdata\\local\\programs\\python\\python311\\lib\\site-packages (from isoduration->jsonschema>=4.18.0->jupyterlab-server<3,>=2.27.1->notebook->-r requirements.txt (line 9)) (1.3.0)\n",
      "Requirement already satisfied: executing>=1.2.0 in c:\\users\\trisha chander\\appdata\\roaming\\python\\python311\\site-packages (from stack-data->ipython>=7.23.1->ipykernel>=6.5.0->jupyterlab<4.5,>=4.4.3->notebook->-r requirements.txt (line 9)) (2.1.0)\n",
      "Requirement already satisfied: asttokens>=2.1.0 in c:\\users\\trisha chander\\appdata\\roaming\\python\\python311\\site-packages (from stack-data->ipython>=7.23.1->ipykernel>=6.5.0->jupyterlab<4.5,>=4.4.3->notebook->-r requirements.txt (line 9)) (2.4.1)\n",
      "Requirement already satisfied: pure-eval in c:\\users\\trisha chander\\appdata\\roaming\\python\\python311\\site-packages (from stack-data->ipython>=7.23.1->ipykernel>=6.5.0->jupyterlab<4.5,>=4.4.3->notebook->-r requirements.txt (line 9)) (0.2.3)\n",
      "Requirement already satisfied: types-python-dateutil>=2.8.10 in c:\\users\\trisha chander\\appdata\\local\\programs\\python\\python311\\lib\\site-packages (from arrow>=0.15.0->isoduration->jsonschema>=4.18.0->jupyterlab-server<3,>=2.27.1->notebook->-r requirements.txt (line 9)) (2.9.0.20241206)\n",
      "Using cached langgraph-0.4.7-py3-none-any.whl (154 kB)\n",
      "Using cached langgraph_prebuilt-0.2.2-py3-none-any.whl (23 kB)\n",
      "Using cached langgraph_sdk-0.1.70-py3-none-any.whl (49 kB)\n",
      "Using cached langgraph_checkpoint_sqlite-2.0.10-py3-none-any.whl (30 kB)\n",
      "Using cached notebook-7.4.3-py3-none-any.whl (14.3 MB)\n",
      "Using cached tavily_python-0.7.3-py3-none-any.whl (15 kB)\n",
      "Using cached trustcall-0.0.39-py3-none-any.whl (30 kB)\n",
      "Using cached aiosqlite-0.21.0-py3-none-any.whl (15 kB)\n",
      "Using cached dydantic-0.0.8-py3-none-any.whl (8.6 kB)\n",
      "Using cached jupyterlab-4.4.3-py3-none-any.whl (12.3 MB)\n",
      "Using cached langgraph_api-0.2.36-py3-none-any.whl (177 kB)\n",
      "Using cached langgraph_checkpoint-2.0.26-py3-none-any.whl (44 kB)\n",
      "Using cached langgraph_runtime_inmem-0.2.0-py3-none-any.whl (28 kB)\n",
      "Using cached sqlite_vec-0.1.6-py3-none-win_amd64.whl (281 kB)\n",
      "Using cached xxhash-3.5.0-cp311-cp311-win_amd64.whl (30 kB)\n",
      "Using cached langgraph_cli-0.2.10-py3-none-any.whl (34 kB)\n",
      "Using cached blockbuster-1.5.24-py3-none-any.whl (13 kB)\n",
      "Using cached cloudpickle-3.1.1-py3-none-any.whl (20 kB)\n",
      "Using cached jsonschema_rs-0.29.1-cp311-cp311-win_amd64.whl (1.9 MB)\n",
      "Using cached ormsgpack-1.10.0-cp311-cp311-win_amd64.whl (121 kB)\n",
      "Using cached sse_starlette-2.1.3-py3-none-any.whl (9.4 kB)\n",
      "Using cached structlog-25.3.0-py3-none-any.whl (68 kB)\n",
      "Using cached truststore-0.10.1-py3-none-any.whl (18 kB)\n",
      "Installing collected packages: sqlite-vec, forbiddenfruit, xxhash, truststore, structlog, ormsgpack, jsonschema-rs, cloudpickle, blockbuster, aiosqlite, wikipedia, langgraph-cli, tavily-python, sse-starlette, langgraph-sdk, dydantic, langgraph-checkpoint, langgraph-prebuilt, langgraph-checkpoint-sqlite, langgraph, trustcall, langgraph-runtime-inmem, langgraph-api, jupyterlab, notebook\n",
      "  Attempting uninstall: jupyterlab\n",
      "    Found existing installation: jupyterlab 4.3.3\n",
      "    Uninstalling jupyterlab-4.3.3:\n",
      "      Successfully uninstalled jupyterlab-4.3.3\n",
      "Successfully installed aiosqlite-0.21.0 blockbuster-1.5.24 cloudpickle-3.1.1 dydantic-0.0.8 forbiddenfruit-0.1.4 jsonschema-rs-0.29.1 jupyterlab-4.4.3 langgraph-0.4.7 langgraph-api-0.2.36 langgraph-checkpoint-2.0.26 langgraph-checkpoint-sqlite-2.0.10 langgraph-cli-0.2.10 langgraph-prebuilt-0.2.2 langgraph-runtime-inmem-0.2.0 langgraph-sdk-0.1.70 notebook-7.4.3 ormsgpack-1.10.0 sqlite-vec-0.1.6 sse-starlette-2.1.3 structlog-25.3.0 tavily-python-0.7.3 trustcall-0.0.39 truststore-0.10.1 wikipedia-1.4.0 xxhash-3.5.0\n"
     ]
    },
    {
     "name": "stderr",
     "output_type": "stream",
     "text": [
      "\n",
      "[notice] A new release of pip is available: 23.2.1 -> 25.1.1\n",
      "[notice] To update, run: python.exe -m pip install --upgrade pip\n"
     ]
    }
   ],
   "source": [
    "!pip install -r requirements.txt"
   ]
  },
  {
   "cell_type": "markdown",
   "metadata": {},
   "source": [
    "## Simple Graph"
   ]
  },
  {
   "cell_type": "markdown",
   "metadata": {},
   "source": [
    "### Graph Image"
   ]
  },
  {
   "cell_type": "markdown",
   "metadata": {},
   "source": [
    "![Screenshot 2024-08-20 at 3.11.22 PM.png](https://cdn.prod.website-files.com/65b8cd72835ceeacd4449a53/66dba5f465f6e9a2482ad935_simple-graph1.png)"
   ]
  },
  {
   "cell_type": "markdown",
   "metadata": {},
   "source": [
    "### State"
   ]
  },
  {
   "cell_type": "markdown",
   "metadata": {},
   "source": [
    "First, define the [State](https://langchain-ai.github.io/langgraph/concepts/low_level/#state) of the graph. \n",
    "\n",
    "The State schema serves as the input schema for all Nodes and Edges in the graph.\n",
    "\n",
    "Let's use the `TypedDict` class from python's `typing` module as our schema, which provides type hints for the keys."
   ]
  },
  {
   "cell_type": "code",
   "execution_count": 1,
   "metadata": {},
   "outputs": [],
   "source": [
    "from typing_extensions import TypedDict\n",
    "\n",
    "class State(TypedDict):\n",
    "    graph_state: str"
   ]
  },
  {
   "cell_type": "markdown",
   "metadata": {},
   "source": [
    "### Nodes"
   ]
  },
  {
   "cell_type": "markdown",
   "metadata": {},
   "source": [
    "[Nodes](https://langchain-ai.github.io/langgraph/concepts/low_level/#nodes) are just python functions.\n",
    "\n",
    "The first positional argument is the state, as defined above.\n",
    "\n",
    "Because the state is a `TypedDict` with schema as defined above, each node can access the key, `graph_state`, with `state['graph_state']`.\n",
    "\n",
    "Each node returns a new value of the state key `graph_state`.\n",
    "  \n",
    "By default, the new value returned by each node [will override](https://langchain-ai.github.io/langgraph/concepts/low_level/#reducers) the prior state value."
   ]
  },
  {
   "cell_type": "code",
   "execution_count": 2,
   "metadata": {},
   "outputs": [],
   "source": [
    "def node_1(state):\n",
    "    print(\"---Node 1---\")\n",
    "    return {\"graph_state\": state['graph_state'] +\" I am\"}\n",
    "\n",
    "def node_2(state):\n",
    "    print(\"---Node 2---\")\n",
    "    return {\"graph_state\": state['graph_state'] +\" happy!\"}\n",
    "\n",
    "def node_3(state):\n",
    "    print(\"---Node 3---\")\n",
    "    return {\"graph_state\": state['graph_state'] +\" sad!\"}"
   ]
  },
  {
   "cell_type": "markdown",
   "metadata": {},
   "source": [
    "### Edges"
   ]
  },
  {
   "cell_type": "markdown",
   "metadata": {},
   "source": [
    "[Edges](https://langchain-ai.github.io/langgraph/concepts/low_level/#edges) connect the nodes.\n",
    "\n",
    "Normal Edges are used if you want to *always* go from, for example, `node_1` to `node_2`.\n",
    "\n",
    "[Conditional Edges](https://langchain-ai.github.io/langgraph/concepts/low_level/#conditional-edges) are used if you want to *optionally* route between nodes.\n",
    " \n",
    "Conditional edges are implemented as functions that return the next node to visit based upon some logic."
   ]
  },
  {
   "cell_type": "code",
   "execution_count": 3,
   "metadata": {},
   "outputs": [],
   "source": [
    "import random\n",
    "from typing import Literal\n",
    "\n",
    "def decide_mood(state) -> Literal[\"node_2\", \"node_3\"]:\n",
    "    \n",
    "    # Often, we will use state to decide on the next node to visit\n",
    "    user_input = state['graph_state'] \n",
    "    \n",
    "    # Here, let's just do a 50 / 50 split between nodes 2, 3\n",
    "    if random.random() < 0.5:\n",
    "\n",
    "        # 50% of the time, we return Node 2\n",
    "        return \"node_2\"\n",
    "    \n",
    "    # 50% of the time, we return Node 3\n",
    "    return \"node_3\""
   ]
  },
  {
   "cell_type": "markdown",
   "metadata": {},
   "source": [
    "### Graph Construction"
   ]
  },
  {
   "cell_type": "markdown",
   "metadata": {},
   "source": [
    "Now, we build the graph from our [components](\n",
    "https://langchain-ai.github.io/langgraph/concepts/low_level/) defined above.\n",
    "\n",
    "The [StateGraph class](https://langchain-ai.github.io/langgraph/concepts/low_level/#stategraph) is the graph class that we can use.\n",
    " \n",
    "First, we initialize a StateGraph with the `State` class we defined above.\n",
    " \n",
    "Then, we add our nodes and edges.\n",
    "\n",
    "We use the [`START` Node, a special node](https://langchain-ai.github.io/langgraph/concepts/low_level/#start-node) that sends user input to the graph, to indicate where to start our graph.\n",
    " \n",
    "The [`END` Node](https://langchain-ai.github.io/langgraph/concepts/low_level/#end-node) is a special node that represents a terminal node. \n",
    "\n",
    "Finally, we [compile our graph](https://langchain-ai.github.io/langgraph/concepts/low_level/#compiling-your-graph) to perform a few basic checks on the graph structure. \n",
    "\n",
    "We can visualize the graph as a [Mermaid diagram](https://github.com/mermaid-js/mermaid)."
   ]
  },
  {
   "cell_type": "code",
   "execution_count": 4,
   "metadata": {},
   "outputs": [
    {
     "data": {
      "image/png": "[encoded data removed]",
      "text/plain": [
       "<IPython.core.display.Image object>"
      ]
     },
     "metadata": {},
     "output_type": "display_data"
    }
   ],
   "source": [
    "from IPython.display import Image, display\n",
    "from langgraph.graph import StateGraph, START, END\n",
    "\n",
    "# Build graph\n",
    "builder = StateGraph(State)\n",
    "builder.add_node(\"node_1\", node_1)\n",
    "builder.add_node(\"node_2\", node_2)\n",
    "builder.add_node(\"node_3\", node_3)\n",
    "\n",
    "# Logic\n",
    "builder.add_edge(START, \"node_1\")\n",
    "builder.add_conditional_edges(\"node_1\", decide_mood)\n",
    "builder.add_edge(\"node_2\", END)\n",
    "builder.add_edge(\"node_3\", END)\n",
    "\n",
    "# Add\n",
    "graph = builder.compile()\n",
    "\n",
    "# View\n",
    "display(Image(graph.get_graph().draw_mermaid_png()))"
   ]
  },
  {
   "cell_type": "markdown",
   "metadata": {},
   "source": [
    "### Graph Invocation"
   ]
  },
  {
   "cell_type": "markdown",
   "metadata": {},
   "source": [
    "The compiled graph implements the [runnable](https://python.langchain.com/docs/concepts/runnables/) protocol.\n",
    "\n",
    "This provides a standard way to execute LangChain components. \n",
    " \n",
    "`invoke` is one of the standard methods in this interface.\n",
    "\n",
    "The input is a dictionary `{\"graph_state\": \"Hi, this is lance.\"}`, which sets the initial value for our graph state dict.\n",
    "\n",
    "When `invoke` is called, the graph starts execution from the `START` node.\n",
    "\n",
    "It progresses through the defined nodes (`node_1`, `node_2`, `node_3`) in order.\n",
    "\n",
    "The conditional edge will traverse from node `1` to node `2` or `3` using a 50/50 decision rule. \n",
    "\n",
    "Each node function receives the current state and returns a new value, which overrides the graph state.\n",
    "\n",
    "The execution continues until it reaches the `END` node."
   ]
  },
  {
   "cell_type": "code",
   "execution_count": 5,
   "metadata": {},
   "outputs": [
    {
     "name": "stdout",
     "output_type": "stream",
     "text": [
      "---Node 1---\n",
      "---Node 2---\n"
     ]
    },
    {
     "data": {
      "text/plain": [
       "{'graph_state': 'Hi, this is Trisha. I am happy!'}"
      ]
     },
     "execution_count": 5,
     "metadata": {},
     "output_type": "execute_result"
    }
   ],
   "source": [
    "graph.invoke({\"graph_state\" : \"Hi, this is Trisha.\"})"
   ]
  },
  {
   "cell_type": "code",
   "execution_count": 6,
   "metadata": {},
   "outputs": [
    {
     "name": "stdout",
     "output_type": "stream",
     "text": [
      "---Node 1---\n",
      "---Node 3---\n"
     ]
    },
    {
     "data": {
      "text/plain": [
       "{'graph_state': 'Hi, this is Trisha. I am sad!'}"
      ]
     },
     "execution_count": 6,
     "metadata": {},
     "output_type": "execute_result"
    }
   ],
   "source": [
    "graph.invoke({\"graph_state\" : \"Hi, this is Trisha.\"})"
   ]
  },
  {
   "cell_type": "markdown",
   "metadata": {},
   "source": [
    "`invoke` runs the entire graph synchronously.\n",
    "\n",
    "This waits for each step to complete before moving to the next.\n",
    "\n",
    "It returns the final state of the graph after all nodes have executed.\n",
    "\n",
    "In this case, it returns the state after `node_3` has completed: \n",
    "\n",
    "```\n",
    "{'graph_state': 'Hi, this is Lance. I am sad!'}\n",
    "```"
   ]
  },
  {
   "cell_type": "markdown",
   "metadata": {},
   "source": [
    "## Chain"
   ]
  },
  {
   "cell_type": "markdown",
   "metadata": {},
   "source": [
    "### Goals\n",
    "\n",
    "Now, let's build up to a simple chain that combines 4 [concepts](https://python.langchain.com/v0.2/docs/concepts/):\n",
    "\n",
    "* Using [chat messages](https://python.langchain.com/v0.2/docs/concepts/#messages) as our graph state\n",
    "* Using [chat models](https://python.langchain.com/v0.2/docs/concepts/#chat-models) in graph nodes\n",
    "* [Binding tools](https://python.langchain.com/v0.2/docs/concepts/#tools) to our chat model\n",
    "* [Executing tool calls](https://python.langchain.com/v0.2/docs/concepts/#functiontool-calling) in graph nodes \n",
    "\n",
    "![Screenshot 2024-08-21 at 9.24.03 AM.png](https://cdn.prod.website-files.com/65b8cd72835ceeacd4449a53/66dbab08dd607b08df5e1101_chain1.png)"
   ]
  },
  {
   "cell_type": "markdown",
   "metadata": {},
   "source": [
    "### Messages\n"
   ]
  },
  {
   "cell_type": "markdown",
   "metadata": {},
   "source": [
    "Chat models can use [`messages`](https://python.langchain.com/v0.2/docs/concepts/#messages), which capture different roles within a conversation. \n",
    "\n",
    "LangChain supports various message types, including `HumanMessage`, `AIMessage`, `SystemMessage`, and `ToolMessage`. \n",
    "\n",
    "These represent a message from the user, from chat model, for the chat model to instruct behavior, and from a tool call. \n",
    "\n",
    "Let's create a list of messages. \n",
    "\n",
    "Each message can be supplied with a few things:\n",
    "\n",
    "* `content` - content of the message\n",
    "* `name` - optionally, a message author \n",
    "* `response_metadata` - optionally, a dict of metadata (e.g., often populated by model provider for `AIMessages`)"
   ]
  },
  {
   "cell_type": "code",
   "execution_count": 10,
   "metadata": {},
   "outputs": [
    {
     "name": "stdout",
     "output_type": "stream",
     "text": [
      "==================================\u001b[1m Ai Message \u001b[0m==================================\n",
      "Name: Model\n",
      "\n",
      "So you said you were researching ocean mammals?\n",
      "================================\u001b[1m Human Message \u001b[0m=================================\n",
      "Name: Trisha\n",
      "\n",
      "Yes, that's right.\n",
      "==================================\u001b[1m Ai Message \u001b[0m==================================\n",
      "Name: Model\n",
      "\n",
      "Great, what would you like to learn about.\n",
      "================================\u001b[1m Human Message \u001b[0m=================================\n",
      "Name: Trisha\n",
      "\n",
      "I want to learn about the best place to see Baleen whales in the US.\n"
     ]
    }
   ],
   "source": [
    "from pprint import pprint\n",
    "from langchain_core.messages import AIMessage, HumanMessage\n",
    "\n",
    "messages = [AIMessage(content=f\"So you said you were researching ocean mammals?\", name=\"Model\")]\n",
    "messages.append(HumanMessage(content=f\"Yes, that's right.\",name=\"Trisha\"))\n",
    "messages.append(AIMessage(content=f\"Great, what would you like to learn about.\", name=\"Model\"))\n",
    "messages.append(HumanMessage(content=f\"I want to learn about the best place to see Baleen whales in the US.\", name=\"Trisha\"))\n",
    "\n",
    "for m in messages:\n",
    "    m.pretty_print()"
   ]
  },
  {
   "cell_type": "markdown",
   "metadata": {},
   "source": [
    "### Chat Models"
   ]
  },
  {
   "cell_type": "markdown",
   "metadata": {},
   "source": [
    "[Chat models](https://python.langchain.com/v0.2/docs/concepts/#chat-models) can use a sequence of message as input and support message types, as discussed above.\n",
    "\n",
    "There are [many](https://python.langchain.com/v0.2/docs/concepts/#chat-models) to choose from! Let's work with OpenAI. \n",
    "\n",
    "Let's check that your `OPENAI_API_KEY` is set and, if not, you will be asked to enter it."
   ]
  },
  {
   "cell_type": "code",
   "execution_count": 11,
   "metadata": {},
   "outputs": [
    {
     "name": "stderr",
     "output_type": "stream",
     "text": [
      "\n",
      "[notice] A new release of pip is available: 23.2.1 -> 25.1.1\n",
      "[notice] To update, run: python.exe -m pip install --upgrade pip\n"
     ]
    }
   ],
   "source": [
    "!pip install -qU langchain-groq"
   ]
  },
  {
   "cell_type": "code",
   "execution_count": 12,
   "metadata": {},
   "outputs": [
    {
     "data": {
      "text/plain": [
       "langchain_core.messages.ai.AIMessage"
      ]
     },
     "execution_count": 12,
     "metadata": {},
     "output_type": "execute_result"
    }
   ],
   "source": [
    "from langchain_openai import ChatOpenAI\n",
    "from langchain_groq import ChatGroq\n",
    "# llm = ChatOpenAI(model=\"gpt-4o\")\n",
    "llm = ChatGroq(model=\"llama-3.1-8b-instant\", api_key='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')\n",
    "result = llm.invoke(messages)\n",
    "type(result)"
   ]
  },
  {
   "cell_type": "code",
   "execution_count": 13,
   "metadata": {},
   "outputs": [
    {
     "data": {
      "text/plain": [
       "AIMessage(content=\"If you're interested in seeing baleen whales in the US, you're in luck because there are several excellent locations along the coast. Here are a few top recommendations:\\n\\n1. **Alaska's Inside Passage**: The Inside Passage is one of the best places in the US to see humpback whales (Megaptera novaeangliae), gray whales (Eschrichtius robustus), and other baleen whales. Take a cruise or tour to witness these magnificent creatures up close.\\n2. **Montana de Oro State Park, California**: This park on the central coast of California is a prime spot for gray whale sightings during their annual migrations (December to May).\\n3. **Puget Sound, Washington**: From late fall to early spring, Puget Sound is home to orcas (which are actually toothed whales, but they can be seen alongside baleen whales) and gray whales. Take a whale-watching tour to spot these amazing creatures.\\n4. **Cape Cod, Massachusetts**: While not as abundant as in Alaska or California, Cape Cod is a great spot to see humpback and minke whales (Balaenoptera acutorostrata) during their summer migrations.\\n5. **Gulf Shores, Alabama**: During the winter months (December to February), Gulf Shores is a popular spot for gray whale sightings as they migrate to warmer waters.\\n\\nKeep in mind that the best time for baleen whale sightings varies depending on the location and species. Be sure to check with local whale-watching tour operators or park rangers for more information and to plan your trip accordingly.\\n\\nWhich location resonates with you, or would you like to explore more options?\", additional_kwargs={}, response_metadata={'token_usage': {'completion_tokens': 348, 'prompt_tokens': 92, 'total_tokens': 440, 'completion_time': 0.519460374, 'prompt_time': 0.004167152, 'queue_time': 0.087705178, 'total_time': 0.523627526}, 'model_name': 'llama-3.1-8b-instant', 'system_fingerprint': 'fp_f7bd09b454', 'finish_reason': 'stop', 'logprobs': None}, id='run--fd728a0e-006a-4330-b903-ad5a3f19dfdf-0', usage_metadata={'input_tokens': 92, 'output_tokens': 348, 'total_tokens': 440})"
      ]
     },
     "execution_count": 13,
     "metadata": {},
     "output_type": "execute_result"
    }
   ],
   "source": [
    "result"
   ]
  },
  {
   "cell_type": "code",
   "execution_count": 15,
   "metadata": {},
   "outputs": [
    {
     "data": {
      "text/plain": [
       "{'token_usage': {'completion_tokens': 348,\n",
       "  'prompt_tokens': 92,\n",
       "  'total_tokens': 440,\n",
       "  'completion_time': 0.519460374,\n",
       "  'prompt_time': 0.004167152,\n",
       "  'queue_time': 0.087705178,\n",
       "  'total_time': 0.523627526},\n",
       " 'model_name': 'llama-3.1-8b-instant',\n",
       " 'system_fingerprint': 'fp_f7bd09b454',\n",
       " 'finish_reason': 'stop',\n",
       " 'logprobs': None}"
      ]
     },
     "execution_count": 15,
     "metadata": {},
     "output_type": "execute_result"
    }
   ],
   "source": [
    "result.response_metadata"
   ]
  },
  {
   "cell_type": "markdown",
   "metadata": {},
   "source": [
    "### Tools"
   ]
  },
  {
   "cell_type": "markdown",
   "metadata": {},
   "source": [
    "Tools are useful whenever you want a model to interact with external systems.\n",
    "\n",
    "External systems (e.g., APIs) often require a particular input schema or payload, rather than natural language. \n",
    "\n",
    "When we bind an API, for example, as a tool we given the model awareness of the required input schema.\n",
    "\n",
    "The model will choose to call a tool based upon the natural language input from the user. \n",
    "\n",
    "And, it will return an output that adheres to the tool's schema. \n",
    "\n",
    "[Many LLM providers support tool calling](https://python.langchain.com/v0.1/docs/integrations/chat/) and [tool calling interface](https://blog.langchain.dev/improving-core-tool-interfaces-and-docs-in-langchain/) in LangChain is simple. \n",
    " \n",
    "You can simply pass any Python `function` into `ChatModel.bind_tools(function)`.\n",
    "\n",
    "![Screenshot 2024-08-19 at 7.46.28 PM.png](https://cdn.prod.website-files.com/65b8cd72835ceeacd4449a53/66dbab08dc1c17a7a57f9960_chain2.png)"
   ]
  },
  {
   "cell_type": "markdown",
   "metadata": {},
   "source": [
    "Let's showcase a simple example of tool calling!\n",
    " \n",
    "The `multiply` function is our tool."
   ]
  },
  {
   "cell_type": "code",
   "execution_count": 16,
   "metadata": {},
   "outputs": [],
   "source": [
    "def multiply(a: int, b: int) -> int:\n",
    "    \"\"\"Multiply a and b.\n",
    "\n",
    "    Args:\n",
    "        a: first int\n",
    "        b: second int\n",
    "    \"\"\"\n",
    "    return a * b"
   ]
  },
  {
   "cell_type": "markdown",
   "metadata": {},
   "source": [
    "If we pass an input - e.g., `\"What is 2 multiplied by 3\"` - we see a tool call returned. \n",
    "\n",
    "The tool call has specific arguments that match the input schema of our function along with the name of the function to call.\n",
    "\n",
    "```\n",
    "{'arguments': '{\"a\":2,\"b\":3}', 'name': 'multiply'}\n",
    "```"
   ]
  },
  {
   "cell_type": "code",
   "execution_count": 17,
   "metadata": {},
   "outputs": [],
   "source": [
    "def divide(a: int, b: int):\n",
    "    \"\"\"Divide a and b\n",
    "    \n",
    "    Args:\n",
    "        a: first int\n",
    "        b: second int\"\"\"\n",
    "    \n",
    "    if b!=0:\n",
    "        return float(a/b)\n",
    "    return \"Error\""
   ]
  },
  {
   "cell_type": "code",
   "execution_count": 18,
   "metadata": {},
   "outputs": [],
   "source": [
    "llm_with_tools = llm.bind_tools([multiply,divide])"
   ]
  },
  {
   "cell_type": "code",
   "execution_count": 19,
   "metadata": {},
   "outputs": [],
   "source": [
    "tool_call = llm_with_tools.invoke([HumanMessage(content=f\"What is 2 multiplied by 3\", name=\"Lance\")])"
   ]
  },
  {
   "cell_type": "code",
   "execution_count": 20,
   "metadata": {},
   "outputs": [
    {
     "data": {
      "text/plain": [
       "[{'name': 'multiply',\n",
       "  'args': {'a': 2, 'b': 3},\n",
       "  'id': 'call_h504',\n",
       "  'type': 'tool_call'}]"
      ]
     },
     "execution_count": 20,
     "metadata": {},
     "output_type": "execute_result"
    }
   ],
   "source": [
    "tool_call.tool_calls"
   ]
  },
  {
   "cell_type": "code",
   "execution_count": 25,
   "metadata": {},
   "outputs": [],
   "source": [
    "tool_call2 = llm_with_tools.invoke([HumanMessage(content=f\"What is 6 divided by 2\",name=\"Trisha\")])"
   ]
  },
  {
   "cell_type": "code",
   "execution_count": 26,
   "metadata": {},
   "outputs": [
    {
     "data": {
      "text/plain": [
       "AIMessage(content='', additional_kwargs={'tool_calls': [{'id': 'call_f0h0', 'function': {'arguments': '{\"a\":6,\"b\":2}', 'name': 'divide'}, 'type': 'function'}]}, response_metadata={'token_usage': {'completion_tokens': 19, 'prompt_tokens': 297, 'total_tokens': 316, 'completion_time': 0.028631424, 'prompt_time': 0.013673227, 'queue_time': 0.089971984, 'total_time': 0.042304651}, 'model_name': 'llama-3.1-8b-instant', 'system_fingerprint': 'fp_a4265e44d5', 'finish_reason': 'tool_calls', 'logprobs': None}, id='run--30377fa7-18e2-4b0d-85fc-33b857d0cab3-0', tool_calls=[{'name': 'divide', 'args': {'a': 6, 'b': 2}, 'id': 'call_f0h0', 'type': 'tool_call'}], usage_metadata={'input_tokens': 297, 'output_tokens': 19, 'total_tokens': 316})"
      ]
     },
     "execution_count": 26,
     "metadata": {},
     "output_type": "execute_result"
    }
   ],
   "source": [
    "tool_call2"
   ]
  },
  {
   "cell_type": "code",
   "execution_count": 27,
   "metadata": {},
   "outputs": [
    {
     "data": {
      "text/plain": [
       "[{'name': 'divide',\n",
       "  'args': {'a': 6, 'b': 2},\n",
       "  'id': 'call_f0h0',\n",
       "  'type': 'tool_call'}]"
      ]
     },
     "execution_count": 27,
     "metadata": {},
     "output_type": "execute_result"
    }
   ],
   "source": [
    "tool_call2.tool_calls"
   ]
  },
  {
   "cell_type": "markdown",
   "metadata": {},
   "source": [
    "### Using messages as state"
   ]
  },
  {
   "cell_type": "markdown",
   "metadata": {},
   "source": [
    "With these foundations in place, we can now use [`messages`](https://python.langchain.com/v0.2/docs/concepts/#messages) in our graph state.\n",
    "\n",
    "Let's define our state, `MessagesState`, as a `TypedDict` with a single key: `messages`.\n",
    "\n",
    "`messages` is simply a list of messages, as we defined above (e.g., `HumanMessage`, etc)."
   ]
  },
  {
   "cell_type": "code",
   "execution_count": 28,
   "metadata": {},
   "outputs": [],
   "source": [
    "from typing_extensions import TypedDict\n",
    "from langchain_core.messages import AnyMessage\n",
    "\n",
    "class MessagesState(TypedDict):\n",
    "    messages: list[AnyMessage]"
   ]
  },
  {
   "cell_type": "markdown",
   "metadata": {},
   "source": [
    "### Reducers"
   ]
  },
  {
   "cell_type": "markdown",
   "metadata": {},
   "source": [
    "Now, we have a minor problem! \n",
    "\n",
    "As we discussed, each node will return a new value for our state key `messages`.\n",
    "\n",
    "But, this new value [will override](https://langchain-ai.github.io/langgraph/concepts/low_level/#reducers) the prior `messages` value.\n",
    " \n",
    "As our graph runs, we want to **append** messages to our `messages` state key.\n",
    " \n",
    "We can use [reducer functions](https://langchain-ai.github.io/langgraph/concepts/low_level/#reducers) to address this.\n",
    "\n",
    "Reducers allow us to specify how state updates are performed.\n",
    "\n",
    "If no reducer function is specified, then it is assumed that updates to the key should *override it* as we saw before.\n",
    " \n",
    "But, to append messages, we can use the pre-built `add_messages` reducer.\n",
    "\n",
    "This ensures that any messages are appended to the existing list of messages.\n",
    "\n",
    "We simply need to annotate our `messages` key with the `add_messages` reducer function as metadata."
   ]
  },
  {
   "cell_type": "code",
   "execution_count": 29,
   "metadata": {},
   "outputs": [],
   "source": [
    "from typing import Annotated\n",
    "from langgraph.graph.message import add_messages\n",
    "\n",
    "class MessagesState(TypedDict):\n",
    "    messages: Annotated[list[AnyMessage], add_messages]"
   ]
  },
  {
   "cell_type": "markdown",
   "metadata": {},
   "source": [
    "Since having a list of messages in graph state is so common, LangGraph has a pre-built [`MessagesState`](https://langchain-ai.github.io/langgraph/concepts/low_level/#messagesstate)! \n",
    "\n",
    "`MessagesState` is defined: \n",
    "\n",
    "* With a pre-build single `messages` key\n",
    "* This is a list of `AnyMessage` objects \n",
    "* It uses the `add_messages` reducer\n",
    "\n",
    "We'll usually use `MessagesState` because it is less verbose than defining a custom `TypedDict`, as shown above."
   ]
  },
  {
   "cell_type": "code",
   "execution_count": 30,
   "metadata": {},
   "outputs": [],
   "source": [
    "from langgraph.graph import MessagesState\n",
    "\n",
    "class MessagesState(MessagesState):\n",
    "    # Add any keys needed beyond messages, which is pre-built \n",
    "    pass"
   ]
  },
  {
   "cell_type": "markdown",
   "metadata": {},
   "source": [
    "To go a bit deeper, we can see how the `add_messages` reducer works in isolation."
   ]
  },
  {
   "cell_type": "code",
   "execution_count": 31,
   "metadata": {},
   "outputs": [
    {
     "data": {
      "text/plain": [
       "[AIMessage(content='Hello! How can I assist you?', additional_kwargs={}, response_metadata={}, name='Model', id='9f1810cc-9f55-439d-8687-038a48aeb9b4'),\n",
       " HumanMessage(content=\"I'm looking for information on marine biology.\", additional_kwargs={}, response_metadata={}, name='Trisha', id='517ad2b8-1ada-4894-ae54-7185d340c205'),\n",
       " AIMessage(content='Sure, I can help with that. What specifically are you interested in?', additional_kwargs={}, response_metadata={}, name='Model', id='a00e04b6-3378-4950-bcec-815850a735d8')]"
      ]
     },
     "execution_count": 31,
     "metadata": {},
     "output_type": "execute_result"
    }
   ],
   "source": [
    "# Initial state\n",
    "initial_messages = [AIMessage(content=\"Hello! How can I assist you?\", name=\"Model\"),\n",
    "                    HumanMessage(content=\"I'm looking for information on marine biology.\", name=\"Trisha\")\n",
    "                   ]\n",
    "\n",
    "# New message to add\n",
    "new_message = AIMessage(content=\"Sure, I can help with that. What specifically are you interested in?\", name=\"Model\")\n",
    "\n",
    "# Test\n",
    "add_messages(initial_messages , new_message)"
   ]
  },
  {
   "cell_type": "markdown",
   "metadata": {},
   "source": [
    "### Our graph\n",
    "\n",
    "Now, lets use `MessagesState` with a graph."
   ]
  },
  {
   "cell_type": "code",
   "execution_count": 32,
   "metadata": {},
   "outputs": [
    {
     "data": {
      "image/png": "[encoded data removed]",
      "text/plain": [
       "<IPython.core.display.Image object>"
      ]
     },
     "metadata": {},
     "output_type": "display_data"
    }
   ],
   "source": [
    "from IPython.display import Image, display\n",
    "from langgraph.graph import StateGraph, START, END\n",
    "    \n",
    "# Node\n",
    "def tool_calling_llm(state: MessagesState):\n",
    "    return {\"messages\": [llm_with_tools.invoke(state[\"messages\"])]}\n",
    "\n",
    "# Build graph\n",
    "builder = StateGraph(MessagesState)\n",
    "builder.add_node(\"tool_calling_llm\", tool_calling_llm)\n",
    "builder.add_edge(START, \"tool_calling_llm\")\n",
    "builder.add_edge(\"tool_calling_llm\", END)\n",
    "graph = builder.compile()\n",
    "\n",
    "# View\n",
    "display(Image(graph.get_graph().draw_mermaid_png()))"
   ]
  },
  {
   "cell_type": "markdown",
   "metadata": {},
   "source": [
    "If we pass in `Hello!`, the LLM responds without any tool calls."
   ]
  },
  {
   "cell_type": "code",
   "execution_count": 33,
   "metadata": {},
   "outputs": [
    {
     "name": "stdout",
     "output_type": "stream",
     "text": [
      "================================\u001b[1m Human Message \u001b[0m=================================\n",
      "\n",
      "Hello!\n",
      "==================================\u001b[1m Ai Message \u001b[0m==================================\n",
      "\n",
      "Welcome to the interactive session. I'm ready to help you with any questions or tasks you'd like to accomplish. What would you like to do first?\n"
     ]
    }
   ],
   "source": [
    "messages = graph.invoke({\"messages\": HumanMessage(content=\"Hello!\")})\n",
    "for m in messages['messages']:\n",
    "    m.pretty_print()"
   ]
  },
  {
   "cell_type": "markdown",
   "metadata": {},
   "source": [
    "The LLM chooses to use a tool when it determines that the input or task requires the functionality provided by that tool."
   ]
  },
  {
   "cell_type": "code",
   "execution_count": 34,
   "metadata": {},
   "outputs": [
    {
     "name": "stdout",
     "output_type": "stream",
     "text": [
      "================================\u001b[1m Human Message \u001b[0m=================================\n",
      "\n",
      "Multiply 2 and 3\n",
      "==================================\u001b[1m Ai Message \u001b[0m==================================\n",
      "Tool Calls:\n",
      "  multiply (call_wp90)\n",
      " Call ID: call_wp90\n",
      "  Args:\n",
      "    a: 2\n",
      "    b: 3\n"
     ]
    }
   ],
   "source": [
    "messages = graph.invoke({\"messages\": HumanMessage(content=\"Multiply 2 and 3\")})\n",
    "for m in messages['messages']:\n",
    "    m.pretty_print()"
   ]
  },
  {
   "cell_type": "markdown",
   "metadata": {},
   "source": [
    "## Router"
   ]
  },
  {
   "cell_type": "markdown",
   "metadata": {},
   "source": [
    "Let's extend our graph to work with either output! \n",
    "\n",
    "For this, we can use two ideas:\n",
    "\n",
    "(1) Add a node that will call our tool.\n",
    "\n",
    "(2) Add a conditional edge that will look at the chat model output, and route to our tool calling node or simply end if no tool call is performed. \n"
   ]
  },
  {
   "cell_type": "markdown",
   "metadata": {},
   "source": [
    " We use the [built-in `ToolNode`](https://langchain-ai.github.io/langgraph/reference/prebuilt/?h=tools+condition#toolnode) and simply pass a list of our tools to initialize it. \n",
    " \n",
    " We use the [built-in `tools_condition`](https://langchain-ai.github.io/langgraph/reference/prebuilt/?h=tools+condition#tools_condition) as our conditional edge."
   ]
  },
  {
   "cell_type": "code",
   "execution_count": 35,
   "metadata": {},
   "outputs": [
    {
     "data": {
      "image/png": "[encoded data removed]",
      "text/plain": [
       "<IPython.core.display.Image object>"
      ]
     },
     "metadata": {},
     "output_type": "display_data"
    }
   ],
   "source": [
    "from IPython.display import Image, display\n",
    "from langgraph.graph import StateGraph, START, END\n",
    "from langgraph.graph import MessagesState\n",
    "from langgraph.prebuilt import ToolNode\n",
    "from langgraph.prebuilt import tools_condition\n",
    "\n",
    "# Node\n",
    "def tool_calling_llm(state: MessagesState):\n",
    "    return {\"messages\": [llm_with_tools.invoke(state[\"messages\"])]}\n",
    "\n",
    "# Build graph\n",
    "builder = StateGraph(MessagesState)\n",
    "builder.add_node(\"tool_calling_llm\", tool_calling_llm)\n",
    "builder.add_node(\"tools\", ToolNode([multiply]))\n",
    "builder.add_edge(START, \"tool_calling_llm\")\n",
    "builder.add_conditional_edges(\n",
    "    \"tool_calling_llm\",\n",
    "    # If the latest message (result) from assistant is a tool call -> tools_condition routes to tools\n",
    "    # If the latest message (result) from assistant is a not a tool call -> tools_condition routes to END\n",
    "    tools_condition,\n",
    ")\n",
    "builder.add_edge(\"tools\", END)\n",
    "graph = builder.compile()\n",
    "\n",
    "# View\n",
    "display(Image(graph.get_graph().draw_mermaid_png()))"
   ]
  },
  {
   "cell_type": "code",
   "execution_count": 36,
   "metadata": {},
   "outputs": [
    {
     "name": "stdout",
     "output_type": "stream",
     "text": [
      "================================\u001b[1m Human Message \u001b[0m=================================\n",
      "\n",
      "Hello, what is 2 multiplied by 2?\n",
      "==================================\u001b[1m Ai Message \u001b[0m==================================\n",
      "Tool Calls:\n",
      "  multiply (call_0th3)\n",
      " Call ID: call_0th3\n",
      "  Args:\n",
      "    a: 2\n",
      "    b: 2\n",
      "=================================\u001b[1m Tool Message \u001b[0m=================================\n",
      "Name: multiply\n",
      "\n",
      "4\n"
     ]
    }
   ],
   "source": [
    "from langchain_core.messages import HumanMessage\n",
    "messages = [HumanMessage(content=\"Hello, what is 2 multiplied by 2?\")]\n",
    "messages = graph.invoke({\"messages\": messages})\n",
    "for m in messages['messages']:\n",
    "    m.pretty_print()"
   ]
  },
  {
   "cell_type": "markdown",
   "metadata": {},
   "source": [
    "## Agent"
   ]
  },
  {
   "cell_type": "code",
   "execution_count": null,
   "metadata": {},
   "outputs": [],
   "source": []
  }
 ],
 "metadata": {
  "kernelspec": {
   "display_name": "Python 3",
   "language": "python",
   "name": "python3"
  },
  "language_info": {
   "codemirror_mode": {
    "name": "ipython",
    "version": 3
   },
   "file_extension": ".py",
   "mimetype": "text/x-python",
   "name": "python",
   "nbconvert_exporter": "python",
   "pygments_lexer": "ipython3",
   "version": "3.11.7"
  }
 },
 "nbformat": 4,
 "nbformat_minor": 2
}
